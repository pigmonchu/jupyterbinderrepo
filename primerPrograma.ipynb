{
 "cells": [
  {
   "cell_type": "markdown",
   "metadata": {},
   "source": [
    "# Proyecto sandwichera\n",
    "\n",
    "## Mi primer programa\n",
    "    "
   ]
  },
  {
   "cell_type": "code",
   "execution_count": 1,
   "metadata": {},
   "outputs": [
    {
     "name": "stdout",
     "output_type": "stream",
     "text": [
      "Hola, mundo!\n"
     ]
    }
   ],
   "source": [
    "print('Hola, mundo!')"
   ]
  },
  {
   "cell_type": "markdown",
   "metadata": {},
   "source": [
    "## Saludando"
   ]
  },
  {
   "cell_type": "code",
   "execution_count": 31,
   "metadata": {},
   "outputs": [
    {
     "name": "stdin",
     "output_type": "stream",
     "text": [
      "¿Cómo te llamas? Mon\n"
     ]
    },
    {
     "name": "stdout",
     "output_type": "stream",
     "text": [
      "Encantado de conocerte, Mon\n"
     ]
    }
   ],
   "source": [
    "n = input(\"¿Cómo te llamas?\")\n",
    "print(\"Encantado de conocerte,\", n)"
   ]
  },
  {
   "cell_type": "markdown",
   "metadata": {},
   "source": [
    "## Mi primer sandwich"
   ]
  },
  {
   "cell_type": "code",
   "execution_count": 4,
   "metadata": {},
   "outputs": [
    {
     "name": "stdout",
     "output_type": "stream",
     "text": [
      "Ramón tomará un sandwich de atun con mayonesa en pan de molde\n"
     ]
    }
   ],
   "source": [
    "p = (\"blanco\", \"integral\", \"de molde\")\n",
    "c = (\"jamón\", \"atun\", \"tofu\")\n",
    "s = (\"aceite\", \"mayonesa\", \"mantequilla\")\n",
    "\n",
    "print(\"Ramón tomará un sandwich de\", c[1] ,\"con\", s[1], \"en pan\", p[2])"
   ]
  },
  {
   "cell_type": "markdown",
   "metadata": {},
   "source": [
    "# Sandwich al azar"
   ]
  },
  {
   "cell_type": "code",
   "execution_count": 28,
   "metadata": {},
   "outputs": [
    {
     "name": "stdout",
     "output_type": "stream",
     "text": [
      "Ramón tomará un sandwich de jamón con mantequilla en pan integral\n"
     ]
    }
   ],
   "source": [
    "from random import randint\n",
    "elPan = randint(0,2)\n",
    "elCon = randint(0,2)\n",
    "laSal = randint(0,2)\n",
    "print(\"Ramón tomará un sandwich de\", c[elCon], \"con\", s[laSal], \"en pan\", p[elPan])"
   ]
  },
  {
   "cell_type": "markdown",
   "metadata": {},
   "source": [
    "## Sandwiches para todos"
   ]
  },
  {
   "cell_type": "code",
   "execution_count": 30,
   "metadata": {},
   "outputs": [
    {
     "name": "stdout",
     "output_type": "stream",
     "text": [
      "Ramón tomará un sandwich de jamón con mantequilla en pan de molde\n",
      "Piwi tomará un sandwich de tofu con aceite en pan de molde\n",
      "Andrea tomará un sandwich de jamón con mantequilla en pan integral\n"
     ]
    }
   ],
   "source": [
    "todos = (\"Ramón\", \"Piwi\", \"Andrea\")\n",
    "\n",
    "for i in range(0,3):\n",
    "    elPan = randint(0,2)\n",
    "    elCon = randint(0,2)\n",
    "    laSal = randint(0,2)\n",
    "    print(todos[i], \"tomará un sandwich de\", c[elCon], \"con\", s[laSal], \"en pan\", p[elPan])\n",
    "\n"
   ]
  },
  {
   "cell_type": "markdown",
   "metadata": {},
   "source": [
    "## Sandwichera con malaje"
   ]
  },
  {
   "cell_type": "code",
   "execution_count": null,
   "metadata": {},
   "outputs": [],
   "source": [
    "for i in range(0,3):\n",
    "    elPan = randint(0,2)\n",
    "    elCon = randint(0,2)\n",
    "    laSal = randint(0,2)\n",
    "    negar = randint(1,5)\n",
    "    \n",
    "    if negar == 5:\n",
    "        print(todos[i], \"hoy no comes\")\n",
    "    else:\n",
    "        print(todos[i], \"tomará un sandwich de\", c[elCon], \"con\", s[laSal], \"en pan\", p[elPan])"
   ]
  }
 ],
 "metadata": {
  "kernelspec": {
   "display_name": "Python 3",
   "language": "python",
   "name": "python3"
  },
  "language_info": {
   "codemirror_mode": {
    "name": "ipython",
    "version": 3
   },
   "file_extension": ".py",
   "mimetype": "text/x-python",
   "name": "python",
   "nbconvert_exporter": "python",
   "pygments_lexer": "ipython3",
   "version": "3.7.1"
  }
 },
 "nbformat": 4,
 "nbformat_minor": 2
}
